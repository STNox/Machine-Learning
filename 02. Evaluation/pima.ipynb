{
 "metadata": {
  "language_info": {
   "codemirror_mode": {
    "name": "ipython",
    "version": 3
   },
   "file_extension": ".py",
   "mimetype": "text/x-python",
   "name": "python",
   "nbconvert_exporter": "python",
   "pygments_lexer": "ipython3",
   "version": "3.8.3-final"
  },
  "orig_nbformat": 2,
  "kernelspec": {
   "name": "python3",
   "display_name": "Python 3",
   "language": "python"
  }
 },
 "nbformat": 4,
 "nbformat_minor": 2,
 "cells": [
  {
   "source": [
    "# Pima 아메리카 원주민 당뇨병 예측모델"
   ],
   "cell_type": "markdown",
   "metadata": {}
  },
  {
   "cell_type": "code",
   "execution_count": 1,
   "metadata": {},
   "outputs": [],
   "source": [
    "import pandas as pd\n",
    "import numpy as np"
   ]
  },
  {
   "source": [
    "### 데이터 불러오기/전처리"
   ],
   "cell_type": "markdown",
   "metadata": {}
  },
  {
   "cell_type": "code",
   "execution_count": 2,
   "metadata": {},
   "outputs": [
    {
     "output_type": "execute_result",
     "data": {
      "text/plain": [
       "   Pregnancies  Glucose  BloodPressure  SkinThickness  Insulin   BMI  \\\n",
       "0            6      148             72             35        0  33.6   \n",
       "1            1       85             66             29        0  26.6   \n",
       "2            8      183             64              0        0  23.3   \n",
       "3            1       89             66             23       94  28.1   \n",
       "4            0      137             40             35      168  43.1   \n",
       "\n",
       "   DiabetesPedigreeFunction  Age  Outcome  \n",
       "0                     0.627   50        1  \n",
       "1                     0.351   31        0  \n",
       "2                     0.672   32        1  \n",
       "3                     0.167   21        0  \n",
       "4                     2.288   33        1  "
      ],
      "text/html": "<div>\n<style scoped>\n    .dataframe tbody tr th:only-of-type {\n        vertical-align: middle;\n    }\n\n    .dataframe tbody tr th {\n        vertical-align: top;\n    }\n\n    .dataframe thead th {\n        text-align: right;\n    }\n</style>\n<table border=\"1\" class=\"dataframe\">\n  <thead>\n    <tr style=\"text-align: right;\">\n      <th></th>\n      <th>Pregnancies</th>\n      <th>Glucose</th>\n      <th>BloodPressure</th>\n      <th>SkinThickness</th>\n      <th>Insulin</th>\n      <th>BMI</th>\n      <th>DiabetesPedigreeFunction</th>\n      <th>Age</th>\n      <th>Outcome</th>\n    </tr>\n  </thead>\n  <tbody>\n    <tr>\n      <th>0</th>\n      <td>6</td>\n      <td>148</td>\n      <td>72</td>\n      <td>35</td>\n      <td>0</td>\n      <td>33.6</td>\n      <td>0.627</td>\n      <td>50</td>\n      <td>1</td>\n    </tr>\n    <tr>\n      <th>1</th>\n      <td>1</td>\n      <td>85</td>\n      <td>66</td>\n      <td>29</td>\n      <td>0</td>\n      <td>26.6</td>\n      <td>0.351</td>\n      <td>31</td>\n      <td>0</td>\n    </tr>\n    <tr>\n      <th>2</th>\n      <td>8</td>\n      <td>183</td>\n      <td>64</td>\n      <td>0</td>\n      <td>0</td>\n      <td>23.3</td>\n      <td>0.672</td>\n      <td>32</td>\n      <td>1</td>\n    </tr>\n    <tr>\n      <th>3</th>\n      <td>1</td>\n      <td>89</td>\n      <td>66</td>\n      <td>23</td>\n      <td>94</td>\n      <td>28.1</td>\n      <td>0.167</td>\n      <td>21</td>\n      <td>0</td>\n    </tr>\n    <tr>\n      <th>4</th>\n      <td>0</td>\n      <td>137</td>\n      <td>40</td>\n      <td>35</td>\n      <td>168</td>\n      <td>43.1</td>\n      <td>2.288</td>\n      <td>33</td>\n      <td>1</td>\n    </tr>\n  </tbody>\n</table>\n</div>"
     },
     "metadata": {},
     "execution_count": 2
    }
   ],
   "source": [
    "pima = pd.read_csv('../00. data/pima/diabetes.csv')\n",
    "pima.head()"
   ]
  },
  {
   "cell_type": "code",
   "execution_count": 3,
   "metadata": {},
   "outputs": [
    {
     "output_type": "stream",
     "name": "stdout",
     "text": [
      "<class 'pandas.core.frame.DataFrame'>\nRangeIndex: 768 entries, 0 to 767\nData columns (total 9 columns):\n #   Column                    Non-Null Count  Dtype  \n---  ------                    --------------  -----  \n 0   Pregnancies               768 non-null    int64  \n 1   Glucose                   768 non-null    int64  \n 2   BloodPressure             768 non-null    int64  \n 3   SkinThickness             768 non-null    int64  \n 4   Insulin                   768 non-null    int64  \n 5   BMI                       768 non-null    float64\n 6   DiabetesPedigreeFunction  768 non-null    float64\n 7   Age                       768 non-null    int64  \n 8   Outcome                   768 non-null    int64  \ndtypes: float64(2), int64(7)\nmemory usage: 54.1 KB\n"
     ]
    }
   ],
   "source": [
    "pima.info()"
   ]
  },
  {
   "cell_type": "code",
   "execution_count": 4,
   "metadata": {},
   "outputs": [
    {
     "output_type": "stream",
     "name": "stdout",
     "text": [
      "Glucose의 0 값 개수: 5, 비율은 0.65%\nBloodPressure의 0 값 개수: 35, 비율은 4.56%\nSkinThickness의 0 값 개수: 227, 비율은 29.56%\nInsulin의 0 값 개수: 374, 비율은 48.70%\nBMI의 0 값 개수: 11, 비율은 1.43%\n"
     ]
    }
   ],
   "source": [
    "zero_features = ['Glucose', 'BloodPressure', 'SkinThickness', 'Insulin', 'BMI']\n",
    "total_count = pima['Glucose'].count()\n",
    "for feature in zero_features:\n",
    "    zero_count = pima[pima[feature] == 0][feature].count()\n",
    "    percent = 100 * zero_count / total_count\n",
    "    print(f'{feature}의 0 값 개수: {zero_count}, 비율은 {percent:.2f}%')"
   ]
  },
  {
   "cell_type": "code",
   "execution_count": 5,
   "metadata": {},
   "outputs": [],
   "source": [
    "pima[zero_features] = pima[zero_features].replace(0, pima[zero_features].mean())"
   ]
  },
  {
   "source": [
    "### 데이터 정규화, 학습/테스트 데이터 분리"
   ],
   "cell_type": "markdown",
   "metadata": {}
  },
  {
   "cell_type": "code",
   "execution_count": 6,
   "metadata": {},
   "outputs": [],
   "source": [
    "from sklearn.preprocessing import StandardScaler\n",
    "from sklearn.model_selection import train_test_split, GridSearchCV\n",
    "X = pima.iloc[:, :-1]\n",
    "y = pima.iloc[:, -1]\n",
    "\n",
    "scaler = StandardScaler()\n",
    "X_scaled = scaler.fit_transform(X)\n",
    "\n",
    "X_train, X_test, y_train, y_test = train_test_split(X_scaled, y, test_size=0.2, random_state=11)"
   ]
  },
  {
   "source": [
    "### GridSearchCV"
   ],
   "cell_type": "markdown",
   "metadata": {}
  },
  {
   "cell_type": "code",
   "execution_count": 7,
   "metadata": {},
   "outputs": [],
   "source": [
    "from sklearn.tree import DecisionTreeClassifier\n",
    "dtree = DecisionTreeClassifier()\n",
    "parameters = {\n",
    "    'max_depth': [2, 3, 5, 10],\n",
    "    'min_samples_leaf': [1, 5, 8],\n",
    "    'min_samples_split': [2, 3, 5]\n",
    "}"
   ]
  },
  {
   "cell_type": "code",
   "execution_count": 8,
   "metadata": {},
   "outputs": [
    {
     "output_type": "execute_result",
     "data": {
      "text/plain": [
       "GridSearchCV(cv=5, estimator=DecisionTreeClassifier(),\n",
       "             param_grid={'max_depth': [2, 3, 5, 10],\n",
       "                         'min_samples_leaf': [1, 5, 8],\n",
       "                         'min_samples_split': [2, 3, 5]},\n",
       "             scoring='accuracy')"
      ]
     },
     "metadata": {},
     "execution_count": 8
    }
   ],
   "source": [
    "grid_dtree = GridSearchCV(dtree, param_grid=parameters, cv=5, scoring='accuracy', refit=True)\n",
    "grid_dtree.fit(X_train, y_train)"
   ]
  },
  {
   "cell_type": "code",
   "execution_count": 9,
   "metadata": {},
   "outputs": [
    {
     "output_type": "stream",
     "name": "stdout",
     "text": [
      "GridSearchCV 최적 파라미터: {'max_depth': 2, 'min_samples_leaf': 1, 'min_samples_split': 2}\nGridSearchCV 최고 정확도: 0.7606\n"
     ]
    }
   ],
   "source": [
    "print('GridSearchCV 최적 파라미터:', grid_dtree.best_params_)\n",
    "print('GridSearchCV 최고 정확도: {0:.4f}'.format(grid_dtree.best_score_))"
   ]
  },
  {
   "cell_type": "code",
   "execution_count": 10,
   "metadata": {},
   "outputs": [],
   "source": [
    "estimator = grid_dtree.best_estimator_\n",
    "pred = estimator.predict(X_test)\n",
    "pred_proba = estimator.predict_proba(X_test)"
   ]
  },
  {
   "source": [
    "### 평가"
   ],
   "cell_type": "markdown",
   "metadata": {}
  },
  {
   "cell_type": "code",
   "execution_count": 11,
   "metadata": {},
   "outputs": [],
   "source": [
    "from sklearn.metrics import confusion_matrix, precision_score, recall_score, f1_score, accuracy_score, roc_auc_score\n",
    "\n",
    "def get_clf_eval(y_test, pred):\n",
    "    confusion = confusion_matrix(y_test, pred)\n",
    "    accuracy = accuracy_score(y_test, pred)\n",
    "    precision = precision_score(y_test, pred)\n",
    "    recall = recall_score(y_test, pred)\n",
    "    f1 = f1_score(y_test, pred)\n",
    "    roc_auc = roc_auc_score(y_test, pred)\n",
    "    print('오차 행렬')\n",
    "    print(confusion)\n",
    "    print(f'정확도: {accuracy:.4f}, 정밀도: {precision:.4f}, 재현율: {recall:.4f}, F1 스코어: {f1:.4f}, ROC AUC 스코어: {roc_auc:.4f}')"
   ]
  },
  {
   "cell_type": "code",
   "execution_count": 12,
   "metadata": {},
   "outputs": [
    {
     "output_type": "stream",
     "name": "stdout",
     "text": [
      "오차 행렬\n[[86 14]\n [35 19]]\n정확도: 0.6818, 정밀도: 0.5758, 재현율: 0.3519, F1 스코어: 0.4368, ROC AUC 스코어: 0.6059\n"
     ]
    }
   ],
   "source": [
    "get_clf_eval(y_test, pred)"
   ]
  },
  {
   "source": [
    "### 판단 기준 임의 설정"
   ],
   "cell_type": "markdown",
   "metadata": {}
  },
  {
   "cell_type": "code",
   "execution_count": 13,
   "metadata": {},
   "outputs": [
    {
     "output_type": "stream",
     "name": "stdout",
     "text": [
      "오차 행렬\n[[86 14]\n [35 19]]\n정확도: 0.6818, 정밀도: 0.5758, 재현율: 0.3519, F1 스코어: 0.4368, ROC AUC 스코어: 0.6059\n"
     ]
    }
   ],
   "source": [
    "from sklearn.preprocessing import Binarizer\n",
    "my_threshold_1 = 0.5\n",
    "pred_proba_1 = pred_proba[:, 1].reshape(-1, 1)\n",
    "\n",
    "binarizer = Binarizer(threshold=my_threshold_1)\n",
    "custom_pred_1 = binarizer.fit_transform(pred_proba_1)\n",
    "\n",
    "get_clf_eval(y_test, custom_pred_1)"
   ]
  },
  {
   "cell_type": "code",
   "execution_count": 14,
   "metadata": {},
   "outputs": [
    {
     "output_type": "stream",
     "name": "stdout",
     "text": [
      "오차 행렬\n[[86 14]\n [35 19]]\n정확도: 0.6818, 정밀도: 0.5758, 재현율: 0.3519, F1 스코어: 0.4368, ROC AUC 스코어: 0.6059\n"
     ]
    }
   ],
   "source": [
    "my_threshold_2 = 0.4\n",
    "pred_proba_2 = pred_proba[:, 1].reshape(-1, 1)\n",
    "\n",
    "binarizer = Binarizer(threshold=my_threshold_2)\n",
    "custom_pred_2 = binarizer.fit_transform(pred_proba_2)\n",
    "\n",
    "get_clf_eval(y_test, custom_pred_2)"
   ]
  },
  {
   "cell_type": "code",
   "execution_count": 15,
   "metadata": {},
   "outputs": [
    {
     "output_type": "stream",
     "name": "stdout",
     "text": [
      "오차 행렬\n[[86 14]\n [35 19]]\n정확도: 0.6818, 정밀도: 0.5758, 재현율: 0.3519, F1 스코어: 0.4368, ROC AUC 스코어: 0.6059\n"
     ]
    }
   ],
   "source": [
    "my_threshold_3 = 0.6\n",
    "pred_proba_3 = pred_proba[:, 1].reshape(-1, 1)\n",
    "\n",
    "binarizer = Binarizer(threshold=my_threshold_3)\n",
    "custom_pred_3 = binarizer.fit_transform(pred_proba_3)\n",
    "\n",
    "get_clf_eval(y_test, custom_pred_3)"
   ]
  },
  {
   "cell_type": "code",
   "execution_count": 16,
   "metadata": {},
   "outputs": [
    {
     "output_type": "stream",
     "name": "stdout",
     "text": [
      "오차 행렬\n[[86 14]\n [35 19]]\n정확도: 0.6818, 정밀도: 0.5758, 재현율: 0.3519, F1 스코어: 0.4368, ROC AUC 스코어: 0.6059\n"
     ]
    }
   ],
   "source": [
    "my_threshold_4 = 0.45\n",
    "pred_proba_4 = pred_proba[:, 1].reshape(-1, 1)\n",
    "\n",
    "binarizer = Binarizer(threshold=my_threshold_4)\n",
    "custom_pred_4 = binarizer.fit_transform(pred_proba_4)\n",
    "\n",
    "get_clf_eval(y_test, custom_pred_4)"
   ]
  },
  {
   "source": [
    "### LogisticRegression"
   ],
   "cell_type": "markdown",
   "metadata": {}
  },
  {
   "cell_type": "code",
   "execution_count": 17,
   "metadata": {},
   "outputs": [
    {
     "output_type": "stream",
     "name": "stdout",
     "text": [
      "오차 행렬\n[[89 11]\n [29 25]]\n정확도: 0.7403, 정밀도: 0.6944, 재현율: 0.4630, F1 스코어: 0.5556, ROC AUC 스코어: 0.6765\n"
     ]
    }
   ],
   "source": [
    "from sklearn.linear_model import LogisticRegression\n",
    "lr_clf = LogisticRegression()\n",
    "lr_clf.fit(X_train, y_train)\n",
    "lr_pred = lr_clf.predict(X_test)\n",
    "lr_pred_proba = lr_clf.predict_proba(X_test)\n",
    "\n",
    "get_clf_eval(y_test, lr_pred)"
   ]
  },
  {
   "cell_type": "code",
   "execution_count": 18,
   "metadata": {},
   "outputs": [
    {
     "output_type": "stream",
     "name": "stdout",
     "text": [
      "오차 행렬\n[[89 11]\n [29 25]]\n정확도: 0.7403, 정밀도: 0.6944, 재현율: 0.4630, F1 스코어: 0.5556, ROC AUC 스코어: 0.6765\n"
     ]
    }
   ],
   "source": [
    "lr_threshold_1 = 0.5\n",
    "lr_pred_proba_1 = lr_pred_proba[:, 1].reshape(-1, 1)\n",
    "\n",
    "binarizer = Binarizer(threshold=lr_threshold_1)\n",
    "lr_custom_pred_1 = binarizer.fit_transform(lr_pred_proba_1)\n",
    "\n",
    "get_clf_eval(y_test, lr_custom_pred_1)"
   ]
  },
  {
   "cell_type": "code",
   "execution_count": 19,
   "metadata": {},
   "outputs": [
    {
     "output_type": "stream",
     "name": "stdout",
     "text": [
      "오차 행렬\n[[84 16]\n [23 31]]\n정확도: 0.7468, 정밀도: 0.6596, 재현율: 0.5741, F1 스코어: 0.6139, ROC AUC 스코어: 0.7070\n"
     ]
    }
   ],
   "source": [
    "lr_threshold_2 = 0.4\n",
    "lr_pred_proba_2 = lr_pred_proba[:, 1].reshape(-1, 1)\n",
    "\n",
    "binarizer = Binarizer(threshold=lr_threshold_2)\n",
    "lr_custom_pred_2 = binarizer.fit_transform(lr_pred_proba_2)\n",
    "\n",
    "get_clf_eval(y_test, lr_custom_pred_2)"
   ]
  },
  {
   "cell_type": "code",
   "execution_count": 20,
   "metadata": {},
   "outputs": [
    {
     "output_type": "stream",
     "name": "stdout",
     "text": [
      "오차 행렬\n[[94  6]\n [30 24]]\n정확도: 0.7662, 정밀도: 0.8000, 재현율: 0.4444, F1 스코어: 0.5714, ROC AUC 스코어: 0.6922\n"
     ]
    }
   ],
   "source": [
    "lr_threshold_3 = 0.6\n",
    "lr_pred_proba_3 = lr_pred_proba[:, 1].reshape(-1, 1)\n",
    "\n",
    "binarizer = Binarizer(threshold=lr_threshold_3)\n",
    "lr_custom_pred_3 = binarizer.fit_transform(lr_pred_proba_3)\n",
    "\n",
    "get_clf_eval(y_test, lr_custom_pred_3)"
   ]
  },
  {
   "source": [
    "### RandomForestClassifier"
   ],
   "cell_type": "markdown",
   "metadata": {}
  },
  {
   "cell_type": "code",
   "execution_count": 21,
   "metadata": {},
   "outputs": [
    {
     "output_type": "stream",
     "name": "stdout",
     "text": [
      "오차 행렬\n[[84 16]\n [27 27]]\n정확도: 0.7208, 정밀도: 0.6279, 재현율: 0.5000, F1 스코어: 0.5567, ROC AUC 스코어: 0.6700\n"
     ]
    }
   ],
   "source": [
    "from sklearn.ensemble import RandomForestClassifier\n",
    "rf_clf = RandomForestClassifier(random_state=11)\n",
    "rf_clf.fit(X_train, y_train)\n",
    "rf_pred = rf_clf.predict(X_test)\n",
    "rf_pred_proba = rf_clf.predict_proba(X_test)\n",
    "\n",
    "get_clf_eval(y_test, rf_pred)"
   ]
  },
  {
   "cell_type": "code",
   "execution_count": 22,
   "metadata": {},
   "outputs": [
    {
     "output_type": "stream",
     "name": "stdout",
     "text": [
      "오차 행렬\n[[84 16]\n [27 27]]\n정확도: 0.7208, 정밀도: 0.6279, 재현율: 0.5000, F1 스코어: 0.5567, ROC AUC 스코어: 0.6700\n"
     ]
    }
   ],
   "source": [
    "rf_threshold_1 = 0.5\n",
    "rf_pred_proba_1 = rf_pred_proba[:, 1].reshape(-1, 1)\n",
    "\n",
    "binarizer = Binarizer(threshold=rf_threshold_1)\n",
    "rf_custom_pred_1 = binarizer.fit_transform(rf_pred_proba_1)\n",
    "\n",
    "get_clf_eval(y_test, rf_custom_pred_1)"
   ]
  },
  {
   "cell_type": "code",
   "execution_count": 23,
   "metadata": {},
   "outputs": [
    {
     "output_type": "stream",
     "name": "stdout",
     "text": [
      "오차 행렬\n[[79 21]\n [17 37]]\n정확도: 0.7532, 정밀도: 0.6379, 재현율: 0.6852, F1 스코어: 0.6607, ROC AUC 스코어: 0.7376\n"
     ]
    }
   ],
   "source": [
    "rf_threshold_2 = 0.4\n",
    "rf_pred_proba_2 = rf_pred_proba[:, 1].reshape(-1, 1)\n",
    "\n",
    "binarizer = Binarizer(threshold=rf_threshold_2)\n",
    "rf_custom_pred_2 = binarizer.fit_transform(rf_pred_proba_2)\n",
    "\n",
    "get_clf_eval(y_test, rf_custom_pred_2)"
   ]
  },
  {
   "cell_type": "code",
   "execution_count": 24,
   "metadata": {},
   "outputs": [
    {
     "output_type": "stream",
     "name": "stdout",
     "text": [
      "오차 행렬\n[[94  6]\n [33 21]]\n정확도: 0.7468, 정밀도: 0.7778, 재현율: 0.3889, F1 스코어: 0.5185, ROC AUC 스코어: 0.6644\n"
     ]
    }
   ],
   "source": [
    "rf_threshold_3 = 0.6\n",
    "rf_pred_proba_3 = rf_pred_proba[:, 1].reshape(-1, 1)\n",
    "\n",
    "binarizer = Binarizer(threshold=rf_threshold_3)\n",
    "rf_custom_pred_3 = binarizer.fit_transform(rf_pred_proba_3)\n",
    "\n",
    "get_clf_eval(y_test, rf_custom_pred_3)"
   ]
  },
  {
   "cell_type": "code",
   "execution_count": null,
   "metadata": {},
   "outputs": [],
   "source": []
  }
 ]
}