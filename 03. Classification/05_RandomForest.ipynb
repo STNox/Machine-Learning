{
 "metadata": {
  "language_info": {
   "codemirror_mode": {
    "name": "ipython",
    "version": 3
   },
   "file_extension": ".py",
   "mimetype": "text/x-python",
   "name": "python",
   "nbconvert_exporter": "python",
   "pygments_lexer": "ipython3",
   "version": "3.8.3-final"
  },
  "orig_nbformat": 2,
  "kernelspec": {
   "name": "python3",
   "display_name": "Python 3",
   "language": "python"
  }
 },
 "nbformat": 4,
 "nbformat_minor": 2,
 "cells": [
  {
   "source": [
    "# 랜덤 포레스트(Random Forest)"
   ],
   "cell_type": "markdown",
   "metadata": {}
  },
  {
   "cell_type": "code",
   "execution_count": 1,
   "metadata": {},
   "outputs": [],
   "source": [
    "import pandas as pd\n",
    "fn_df = pd.read_csv('../00. data/UCI_HAR_Dataset/features.txt', sep='\\s+', header=None, names=['col_index', 'col_name'])"
   ]
  },
  {
   "cell_type": "code",
   "execution_count": 2,
   "metadata": {},
   "outputs": [],
   "source": [
    "def get_new_fn_df(fn_df):\n",
    "    f_dup_df = pd.DataFrame(data=fn_df.groupby('column_name').cumcount(), columns=['dup_cnt'])\n",
    "    f_dup_df = f_dup_df.reset_index()\n",
    "    new_fn_df =pd.merge(fn_df.reset_index(), f_dup_df, how='outer')\n",
    "    new_fn_df['column_name'] = new_fn_df[['column_name', 'dup_cnt']].apply(lambda x: x[0] + '_' + str(x[1]) if x[1] > 0 else x[0], axis=1)\n",
    "    new_fn_df = new_fn_df.drop(['index'], axis=1)\n",
    "    return new_fn_df"
   ]
  },
  {
   "cell_type": "code",
   "execution_count": 3,
   "metadata": {},
   "outputs": [],
   "source": [
    "def get_HAR_dataset():\n",
    "    fn_df = pd.read_csv('../00. data/UCI_HAR_Dataset/features.txt', sep='\\s+', header=None, names=['column_index', 'column_name'])\n",
    "    new_fn_df = get_new_fn_df(fn_df)\n",
    "    feature_name = new_fn_df.iloc[:, 1].values.tolist()\n",
    "    X_train = pd.read_csv('../00. data/UCI_HAR_Dataset/train/X_train.txt', sep='\\s+', names=feature_name)\n",
    "    X_test = pd.read_csv('../00. data/UCI_HAR_Dataset/test/X_test.txt', sep='\\s+', names=feature_name)\n",
    "    y_train = pd.read_csv('../00. data/UCI_HAR_Dataset/train/y_train.txt', sep='\\s+', names=['action'])\n",
    "    y_test = pd.read_csv('../00. data/UCI_HAR_Dataset/test/y_test.txt', sep='\\s+', names=['action'])\n",
    "\n",
    "    return X_train, X_test, y_train, y_test, feature_name"
   ]
  },
  {
   "cell_type": "code",
   "execution_count": 4,
   "metadata": {},
   "outputs": [],
   "source": [
    "X_train, X_test, y_train, y_test, feature_name = get_HAR_dataset()"
   ]
  },
  {
   "source": [
    "### 랜덤 포레스트 모델 생성/학습/예측/평가"
   ],
   "cell_type": "markdown",
   "metadata": {}
  },
  {
   "cell_type": "code",
   "execution_count": 5,
   "metadata": {},
   "outputs": [
    {
     "output_type": "stream",
     "name": "stdout",
     "text": [
      "랜덤 포레스트 정확도: 0.9230\n"
     ]
    }
   ],
   "source": [
    "from sklearn.ensemble import RandomForestClassifier\n",
    "from sklearn.metrics import accuracy_score\n",
    "\n",
    "rf_clf = RandomForestClassifier()\n",
    "rf_clf.fit(X_train, y_train)\n",
    "pred = rf_clf.predict(X_test)\n",
    "acc = accuracy_score(y_test, pred)\n",
    "print(f'랜덤 포레스트 정확도: {acc:.4f}')"
   ]
  },
  {
   "source": [
    "### 최적 파라미터 탐색"
   ],
   "cell_type": "markdown",
   "metadata": {}
  },
  {
   "cell_type": "code",
   "execution_count": 6,
   "metadata": {},
   "outputs": [
    {
     "output_type": "execute_result",
     "data": {
      "text/plain": [
       "{'bootstrap': True,\n",
       " 'ccp_alpha': 0.0,\n",
       " 'class_weight': None,\n",
       " 'criterion': 'gini',\n",
       " 'max_depth': None,\n",
       " 'max_features': 'auto',\n",
       " 'max_leaf_nodes': None,\n",
       " 'max_samples': None,\n",
       " 'min_impurity_decrease': 0.0,\n",
       " 'min_impurity_split': None,\n",
       " 'min_samples_leaf': 1,\n",
       " 'min_samples_split': 2,\n",
       " 'min_weight_fraction_leaf': 0.0,\n",
       " 'n_estimators': 100,\n",
       " 'n_jobs': None,\n",
       " 'oob_score': False,\n",
       " 'random_state': None,\n",
       " 'verbose': 0,\n",
       " 'warm_start': False}"
      ]
     },
     "metadata": {},
     "execution_count": 6
    }
   ],
   "source": [
    "rf_clf.get_params()"
   ]
  },
  {
   "cell_type": "code",
   "execution_count": 7,
   "metadata": {},
   "outputs": [],
   "source": [
    "from sklearn.model_selection import GridSearchCV\n",
    "params = {\n",
    "    'n_estimators': [10, 30],\n",
    "    'max_depth': [8, 12, 16],\n",
    "    'min_samples_split': [12, 16, 20]\n",
    "}"
   ]
  },
  {
   "cell_type": "code",
   "execution_count": 9,
   "metadata": {},
   "outputs": [
    {
     "output_type": "stream",
     "name": "stdout",
     "text": [
      "최적 파라미터: {'max_depth': 8, 'min_samples_split': 16, 'n_estimators': 30}\n최고 평균 정확도: 0.9198\n"
     ]
    }
   ],
   "source": [
    "rf_clf = RandomForestClassifier(n_jobs=-1)\n",
    "grid_cv = GridSearchCV(rf_clf, param_grid=params, cv=5, scoring='accuracy', n_jobs=-1)\n",
    "grid_cv.fit(X_train, y_train)\n",
    "print('최적 파라미터:', grid_cv.best_params_)\n",
    "print(f'최고 평균 정확도: {grid_cv.best_score_:.4f}')"
   ]
  },
  {
   "source": [
    "### K 최근접 이웃(K-Nearest Neighbor)"
   ],
   "cell_type": "markdown",
   "metadata": {}
  },
  {
   "cell_type": "code",
   "execution_count": 10,
   "metadata": {},
   "outputs": [
    {
     "output_type": "execute_result",
     "data": {
      "text/plain": [
       "{'algorithm': 'auto',\n",
       " 'leaf_size': 30,\n",
       " 'metric': 'minkowski',\n",
       " 'metric_params': None,\n",
       " 'n_jobs': None,\n",
       " 'n_neighbors': 5,\n",
       " 'p': 2,\n",
       " 'weights': 'uniform'}"
      ]
     },
     "metadata": {},
     "execution_count": 10
    }
   ],
   "source": [
    "from sklearn.neighbors import KNeighborsClassifier\n",
    "knn = KNeighborsClassifier()\n",
    "knn.get_params()"
   ]
  },
  {
   "cell_type": "code",
   "execution_count": 11,
   "metadata": {},
   "outputs": [
    {
     "output_type": "execute_result",
     "data": {
      "text/plain": [
       "0.9015948422124194"
      ]
     },
     "metadata": {},
     "execution_count": 11
    }
   ],
   "source": [
    "knn.fit(X_train, y_train)\n",
    "pred = knn.predict(X_test)\n",
    "accuracy_score(y_test, pred)"
   ]
  },
  {
   "cell_type": "code",
   "execution_count": null,
   "metadata": {},
   "outputs": [],
   "source": []
  }
 ]
}