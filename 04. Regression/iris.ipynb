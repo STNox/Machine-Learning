{
 "metadata": {
  "language_info": {
   "codemirror_mode": {
    "name": "ipython",
    "version": 3
   },
   "file_extension": ".py",
   "mimetype": "text/x-python",
   "name": "python",
   "nbconvert_exporter": "python",
   "pygments_lexer": "ipython3",
   "version": "3.8.3-final"
  },
  "orig_nbformat": 2,
  "kernelspec": {
   "name": "python3",
   "display_name": "Python 3",
   "language": "python"
  }
 },
 "nbformat": 4,
 "nbformat_minor": 2,
 "cells": [
  {
   "source": [
    "# Iris 다중회귀분석"
   ],
   "cell_type": "markdown",
   "metadata": {}
  },
  {
   "cell_type": "code",
   "execution_count": 1,
   "metadata": {},
   "outputs": [],
   "source": [
    "import pandas as pd\n",
    "import numpy as np"
   ]
  },
  {
   "cell_type": "code",
   "execution_count": 2,
   "metadata": {},
   "outputs": [
    {
     "output_type": "execute_result",
     "data": {
      "text/plain": [
       "   sepal length (cm)  sepal width (cm)  petal length (cm)  petal width (cm)  \\\n",
       "0                5.1               3.5                1.4               0.2   \n",
       "1                4.9               3.0                1.4               0.2   \n",
       "2                4.7               3.2                1.3               0.2   \n",
       "3                4.6               3.1                1.5               0.2   \n",
       "4                5.0               3.6                1.4               0.2   \n",
       "\n",
       "   Class  \n",
       "0      0  \n",
       "1      0  \n",
       "2      0  \n",
       "3      0  \n",
       "4      0  "
      ],
      "text/html": "<div>\n<style scoped>\n    .dataframe tbody tr th:only-of-type {\n        vertical-align: middle;\n    }\n\n    .dataframe tbody tr th {\n        vertical-align: top;\n    }\n\n    .dataframe thead th {\n        text-align: right;\n    }\n</style>\n<table border=\"1\" class=\"dataframe\">\n  <thead>\n    <tr style=\"text-align: right;\">\n      <th></th>\n      <th>sepal length (cm)</th>\n      <th>sepal width (cm)</th>\n      <th>petal length (cm)</th>\n      <th>petal width (cm)</th>\n      <th>Class</th>\n    </tr>\n  </thead>\n  <tbody>\n    <tr>\n      <th>0</th>\n      <td>5.1</td>\n      <td>3.5</td>\n      <td>1.4</td>\n      <td>0.2</td>\n      <td>0</td>\n    </tr>\n    <tr>\n      <th>1</th>\n      <td>4.9</td>\n      <td>3.0</td>\n      <td>1.4</td>\n      <td>0.2</td>\n      <td>0</td>\n    </tr>\n    <tr>\n      <th>2</th>\n      <td>4.7</td>\n      <td>3.2</td>\n      <td>1.3</td>\n      <td>0.2</td>\n      <td>0</td>\n    </tr>\n    <tr>\n      <th>3</th>\n      <td>4.6</td>\n      <td>3.1</td>\n      <td>1.5</td>\n      <td>0.2</td>\n      <td>0</td>\n    </tr>\n    <tr>\n      <th>4</th>\n      <td>5.0</td>\n      <td>3.6</td>\n      <td>1.4</td>\n      <td>0.2</td>\n      <td>0</td>\n    </tr>\n  </tbody>\n</table>\n</div>"
     },
     "metadata": {},
     "execution_count": 2
    }
   ],
   "source": [
    "from sklearn.datasets import load_iris\n",
    "iris = load_iris()\n",
    "df = pd.DataFrame(iris.data, columns=iris.feature_names)\n",
    "df['Class'] = iris.target\n",
    "df.head()"
   ]
  },
  {
   "source": [
    "## petal length 구하기"
   ],
   "cell_type": "markdown",
   "metadata": {}
  },
  {
   "cell_type": "code",
   "execution_count": 3,
   "metadata": {},
   "outputs": [],
   "source": [
    "y_pl = df['petal length (cm)']\n",
    "X_pl = df.drop('petal length (cm)', axis=1)"
   ]
  },
  {
   "cell_type": "code",
   "execution_count": 4,
   "metadata": {},
   "outputs": [
    {
     "output_type": "stream",
     "name": "stdout",
     "text": [
      "MSE: 0.12, RMSE: 0.34\nR_squared: 0.9560\n"
     ]
    }
   ],
   "source": [
    "from sklearn.model_selection import train_test_split\n",
    "from sklearn.linear_model import LinearRegression\n",
    "from sklearn.metrics import mean_squared_error, r2_score\n",
    "pl_X_train, pl_X_test, pl_y_train, pl_y_test = train_test_split(X_pl, y_pl, test_size=0.2, random_state=11)\n",
    "\n",
    "pl_lr = LinearRegression()\n",
    "pl_lr.fit(pl_X_train, pl_y_train)\n",
    "pl_pred = pl_lr.predict(pl_X_test)\n",
    "pl_mse = mean_squared_error(pl_y_test, pl_pred)\n",
    "pl_r2 = r2_score(pl_y_test, pl_pred)\n",
    "print(f'MSE: {pl_mse:.2f}, RMSE: {np.sqrt(pl_mse):.2f}')\n",
    "print(f'R_squared: {pl_r2:.4f}')"
   ]
  },
  {
   "cell_type": "code",
   "execution_count": 5,
   "metadata": {},
   "outputs": [
    {
     "output_type": "execute_result",
     "data": {
      "text/plain": [
       "array([ 0.73546445, -0.58084231,  0.92282323,  0.51932569])"
      ]
     },
     "metadata": {},
     "execution_count": 5
    }
   ],
   "source": [
    "pl_weight = pl_lr.coef_\n",
    "pl_weight"
   ]
  },
  {
   "cell_type": "code",
   "execution_count": 6,
   "metadata": {},
   "outputs": [
    {
     "output_type": "execute_result",
     "data": {
      "text/plain": [
       "-0.38563891796042693"
      ]
     },
     "metadata": {},
     "execution_count": 6
    }
   ],
   "source": [
    "pl_bias = pl_lr.intercept_\n",
    "pl_bias"
   ]
  },
  {
   "source": [
    "### 회귀식"
   ],
   "cell_type": "markdown",
   "metadata": {}
  },
  {
   "cell_type": "code",
   "execution_count": 7,
   "metadata": {},
   "outputs": [],
   "source": [
    "petal_length = []\n",
    "for i in df.index:\n",
    "    petal_length.append(round(pl_weight[0] * df['sepal length (cm)'][i] + pl_weight[1] * df['sepal width (cm)'][i] + pl_weight[2] * df['petal width (cm)'][i] + pl_weight[3] * df['Class'][i] + pl_bias, 2))"
   ]
  },
  {
   "source": [
    "### 교차 검증"
   ],
   "cell_type": "markdown",
   "metadata": {}
  },
  {
   "cell_type": "code",
   "execution_count": 8,
   "metadata": {},
   "outputs": [
    {
     "output_type": "stream",
     "name": "stdout",
     "text": [
      "개별 MSE: [-0.06 -0.08 -0.14 -0.1  -0.21]\n개별 RMSE: [0.25 0.28 0.38 0.32 0.46]\n평균 RMSE: 0.3387\n"
     ]
    }
   ],
   "source": [
    "from sklearn.model_selection import cross_val_score\n",
    "\n",
    "pl_neg_mean_scores = cross_val_score(pl_lr, X_pl, y_pl, scoring='neg_mean_squared_error', cv=5)\n",
    "pl_rmse_scores = np.sqrt(-pl_neg_mean_scores)\n",
    "pl_avg_rmse = np.average(pl_rmse_scores)\n",
    "\n",
    "print('개별 MSE:', np.round(pl_neg_mean_scores, 2))\n",
    "print('개별 RMSE:', np.round(pl_rmse_scores, 2))\n",
    "print(f'평균 RMSE: {pl_avg_rmse:.4f}')"
   ]
  },
  {
   "source": [
    "## sepal length 구하기"
   ],
   "cell_type": "markdown",
   "metadata": {}
  },
  {
   "cell_type": "code",
   "execution_count": 9,
   "metadata": {},
   "outputs": [
    {
     "output_type": "stream",
     "name": "stdout",
     "text": [
      "MSE: 0.12, RMSE: 0.34\nR_squared: 0.7717\n"
     ]
    }
   ],
   "source": [
    "y_sl = df['sepal length (cm)']\n",
    "X_sl = df.drop('sepal length (cm)', axis=1)\n",
    "\n",
    "sl_X_train, sl_X_test, sl_y_train, sl_y_test = train_test_split(X_sl, y_sl, test_size=0.2, random_state=11)\n",
    "\n",
    "sl_lr = LinearRegression()\n",
    "sl_lr.fit(sl_X_train, sl_y_train)\n",
    "sl_pred = sl_lr.predict(sl_X_test)\n",
    "sl_mse = mean_squared_error(sl_y_test, sl_pred)\n",
    "sl_r2 = r2_score(sl_y_test, sl_pred)\n",
    "print(f'MSE: {sl_mse:.2f}, RMSE: {np.sqrt(sl_mse):.2f}')\n",
    "print(f'R_squared: {sl_r2:.4f}')"
   ]
  },
  {
   "cell_type": "code",
   "execution_count": 10,
   "metadata": {},
   "outputs": [
    {
     "output_type": "execute_result",
     "data": {
      "text/plain": [
       "array([ 0.65273839,  0.79008613, -0.42637535, -0.2980568 ])"
      ]
     },
     "metadata": {},
     "execution_count": 10
    }
   ],
   "source": [
    "sl_weight = sl_lr.coef_\n",
    "sl_weight"
   ]
  },
  {
   "cell_type": "code",
   "execution_count": 11,
   "metadata": {},
   "outputs": [
    {
     "output_type": "execute_result",
     "data": {
      "text/plain": [
       "1.6912963007194692"
      ]
     },
     "metadata": {},
     "execution_count": 11
    }
   ],
   "source": [
    "sl_bias = sl_lr.intercept_\n",
    "sl_bias"
   ]
  },
  {
   "source": [
    "### 회귀식"
   ],
   "cell_type": "markdown",
   "metadata": {}
  },
  {
   "cell_type": "code",
   "execution_count": 12,
   "metadata": {},
   "outputs": [],
   "source": [
    "sepal_length = []\n",
    "for i in df.index:\n",
    "    sepal_length.append(round(sl_weight[0] * df['sepal width (cm)'][i] + sl_weight[1] * df['petal length (cm)'][i] + sl_weight[2] * df['petal width (cm)'][i] + sl_weight[3] * df['Class'][i] + sl_bias, 2))"
   ]
  },
  {
   "source": [
    "### 교차 검증"
   ],
   "cell_type": "markdown",
   "metadata": {}
  },
  {
   "cell_type": "code",
   "execution_count": 13,
   "metadata": {},
   "outputs": [
    {
     "output_type": "stream",
     "name": "stdout",
     "text": [
      "개별 MSE: [-0.06 -0.08 -0.14 -0.1  -0.14]\n개별 RMSE: [0.25 0.29 0.37 0.31 0.38]\n평균 RMSE: 0.3199\n"
     ]
    }
   ],
   "source": [
    "sl_neg_mean_scores = cross_val_score(sl_lr, X_sl, y_sl, scoring='neg_mean_squared_error', cv=5)\n",
    "sl_rmse_scores = np.sqrt(-sl_neg_mean_scores)\n",
    "sl_avg_rmse = np.average(sl_rmse_scores)\n",
    "\n",
    "print('개별 MSE:', np.round(sl_neg_mean_scores, 2))\n",
    "print('개별 RMSE:', np.round(sl_rmse_scores, 2))\n",
    "print(f'평균 RMSE: {sl_avg_rmse:.4f}')"
   ]
  },
  {
   "source": [
    "### sepal width 구하기"
   ],
   "cell_type": "markdown",
   "metadata": {}
  },
  {
   "cell_type": "code",
   "execution_count": 14,
   "metadata": {},
   "outputs": [
    {
     "output_type": "stream",
     "name": "stdout",
     "text": [
      "MSE: 0.11, RMSE: 0.33\nR_squared: 0.4645\n"
     ]
    }
   ],
   "source": [
    "y_sw = df['sepal width (cm)']\n",
    "X_sw = df.drop('sepal width (cm)', axis=1)\n",
    "\n",
    "sw_X_train, sw_X_test, sw_y_train, sw_y_test = train_test_split(X_sw, y_sw, test_size=0.2, random_state=11)\n",
    "\n",
    "sw_lr = LinearRegression()\n",
    "sw_lr.fit(sw_X_train, sw_y_train)\n",
    "sw_pred = sw_lr.predict(sw_X_test)\n",
    "sw_mse = mean_squared_error(sw_y_test, sw_pred)\n",
    "sw_r2 = r2_score(sw_y_test, sw_pred)\n",
    "print(f'MSE: {sw_mse:.2f}, RMSE: {np.sqrt(sw_mse):.2f}')\n",
    "print(f'R_squared: {sw_r2:.4f}')"
   ]
  },
  {
   "cell_type": "code",
   "execution_count": 15,
   "metadata": {},
   "outputs": [
    {
     "output_type": "execute_result",
     "data": {
      "text/plain": [
       "array([ 0.62354856, -0.59607666,  0.51886865,  0.04129831])"
      ]
     },
     "metadata": {},
     "execution_count": 15
    }
   ],
   "source": [
    "sw_weight = sw_lr.coef_\n",
    "sw_weight"
   ]
  },
  {
   "cell_type": "code",
   "execution_count": 16,
   "metadata": {},
   "outputs": [
    {
     "output_type": "execute_result",
     "data": {
      "text/plain": [
       "0.9918166142805211"
      ]
     },
     "metadata": {},
     "execution_count": 16
    }
   ],
   "source": [
    "sw_bias = sw_lr.intercept_\n",
    "sw_bias"
   ]
  },
  {
   "source": [
    "### 회귀식"
   ],
   "cell_type": "markdown",
   "metadata": {}
  },
  {
   "cell_type": "code",
   "execution_count": 17,
   "metadata": {},
   "outputs": [],
   "source": [
    "sepal_width = []\n",
    "for i in df.index:\n",
    "    sepal_width.append(round(sw_weight[0] * df['sepal length (cm)'][i] + sw_weight[1] * df['petal length (cm)'][i] + sw_weight[2] * df['petal width (cm)'][i] + sw_weight[3] * df['Class'][i] + sw_bias, 2))"
   ]
  },
  {
   "source": [
    "### 교차 검증"
   ],
   "cell_type": "markdown",
   "metadata": {}
  },
  {
   "cell_type": "code",
   "execution_count": 18,
   "metadata": {},
   "outputs": [
    {
     "output_type": "stream",
     "name": "stdout",
     "text": [
      "개별 MSE: [-0.08 -0.11 -0.16 -0.08 -0.11]\n개별 RMSE: [0.28 0.33 0.41 0.29 0.33]\n평균 RMSE: 0.3289\n"
     ]
    }
   ],
   "source": [
    "sw_neg_mean_scores = cross_val_score(sw_lr, X_sw, y_sw, scoring='neg_mean_squared_error', cv=5)\n",
    "sw_rmse_scores = np.sqrt(-sw_neg_mean_scores)\n",
    "sw_avg_rmse = np.average(sw_rmse_scores)\n",
    "\n",
    "print('개별 MSE:', np.round(sw_neg_mean_scores, 2))\n",
    "print('개별 RMSE:', np.round(sw_rmse_scores, 2))\n",
    "print(f'평균 RMSE: {sw_avg_rmse:.4f}')"
   ]
  },
  {
   "source": [
    "### petal width 구하기"
   ],
   "cell_type": "markdown",
   "metadata": {}
  },
  {
   "cell_type": "code",
   "execution_count": 19,
   "metadata": {},
   "outputs": [
    {
     "output_type": "stream",
     "name": "stdout",
     "text": [
      "MSE: 0.03, RMSE: 0.16\nR_squared: 0.9480\n"
     ]
    }
   ],
   "source": [
    "y_pw = df['petal width (cm)']\n",
    "X_pw = df.drop('petal width (cm)', axis=1)\n",
    "\n",
    "pw_X_train, pw_X_test, pw_y_train, pw_y_test = train_test_split(X_pw, y_pw, test_size=0.2, random_state=11)\n",
    "\n",
    "pw_lr = LinearRegression()\n",
    "pw_lr.fit(pw_X_train, pw_y_train)\n",
    "pw_pred = pw_lr.predict(pw_X_test)\n",
    "pw_mse = mean_squared_error(pw_y_test, pw_pred)\n",
    "pw_r2 = r2_score(pw_y_test, pw_pred)\n",
    "print(f'MSE: {pw_mse:.2f}, RMSE: {np.sqrt(pw_mse):.2f}')\n",
    "print(f'R_squared: {pw_r2:.4f}')"
   ]
  },
  {
   "cell_type": "code",
   "execution_count": 20,
   "metadata": {},
   "outputs": [
    {
     "output_type": "execute_result",
     "data": {
      "text/plain": [
       "array([-0.13637801,  0.1737315 ,  0.31709073,  0.39551047])"
      ]
     },
     "metadata": {},
     "execution_count": 20
    }
   ],
   "source": [
    "pw_weight = pw_lr.coef_\n",
    "pw_weight"
   ]
  },
  {
   "cell_type": "code",
   "execution_count": 21,
   "metadata": {},
   "outputs": [
    {
     "output_type": "execute_result",
     "data": {
      "text/plain": [
       "-0.12086232598757674"
      ]
     },
     "metadata": {},
     "execution_count": 21
    }
   ],
   "source": [
    "pw_bias = pw_lr.intercept_\n",
    "pw_bias"
   ]
  },
  {
   "source": [
    "### 회귀식"
   ],
   "cell_type": "markdown",
   "metadata": {}
  },
  {
   "cell_type": "code",
   "execution_count": 22,
   "metadata": {},
   "outputs": [],
   "source": [
    "petal_width = []\n",
    "for i in df.index:\n",
    "    petal_width.append(round(pw_weight[0] * df['sepal length (cm)'][i] + pw_weight[1] * df['sepal width (cm)'][i] + pw_weight[2] * df['petal length (cm)'][i] + pw_weight[3] * df['Class'][i] + pw_bias, 2))"
   ]
  },
  {
   "source": [
    "### 교차 검증"
   ],
   "cell_type": "markdown",
   "metadata": {}
  },
  {
   "cell_type": "code",
   "execution_count": 23,
   "metadata": {},
   "outputs": [
    {
     "output_type": "stream",
     "name": "stdout",
     "text": [
      "개별 MSE: [-0.01 -0.02 -0.02 -0.04 -0.07]\n개별 RMSE: [0.09 0.14 0.15 0.19 0.26]\n평균 RMSE: 0.1667\n"
     ]
    }
   ],
   "source": [
    "pw_neg_mean_scores = cross_val_score(pw_lr, X_pw, y_pw, scoring='neg_mean_squared_error', cv=5)\n",
    "pw_rmse_scores = np.sqrt(-pw_neg_mean_scores)\n",
    "pw_avg_rmse = np.average(pw_rmse_scores)\n",
    "\n",
    "print('개별 MSE:', np.round(pw_neg_mean_scores, 2))\n",
    "print('개별 RMSE:', np.round(pw_rmse_scores, 2))\n",
    "print(f'평균 RMSE: {pw_avg_rmse:.4f}')"
   ]
  },
  {
   "cell_type": "code",
   "execution_count": 24,
   "metadata": {},
   "outputs": [
    {
     "output_type": "execute_result",
     "data": {
      "text/plain": [
       "   sepal length (cm)  sepal width (cm)  petal length (cm)  petal width (cm)  \\\n",
       "0                5.1               3.5                1.4               0.2   \n",
       "1                4.9               3.0                1.4               0.2   \n",
       "2                4.7               3.2                1.3               0.2   \n",
       "3                4.6               3.1                1.5               0.2   \n",
       "4                5.0               3.6                1.4               0.2   \n",
       "5                5.4               3.9                1.7               0.4   \n",
       "6                4.6               3.4                1.4               0.3   \n",
       "7                5.0               3.4                1.5               0.2   \n",
       "8                4.4               2.9                1.4               0.2   \n",
       "9                4.9               3.1                1.5               0.1   \n",
       "\n",
       "   Class  sepal length (regression)  sepal width (regression)  \\\n",
       "0      0                       5.00                      3.44   \n",
       "1      0                       4.67                      3.32   \n",
       "2      0                       4.72                      3.25   \n",
       "3      0                       4.81                      3.07   \n",
       "4      0                       5.06                      3.38   \n",
       "5      0                       5.41                      3.55   \n",
       "6      0                       4.89                      3.18   \n",
       "7      0                       5.01                      3.32   \n",
       "8      0                       4.61                      3.00   \n",
       "9      0                       4.86                      3.20   \n",
       "\n",
       "   petal length (regression)  petal width (regression)  \n",
       "0                       1.52                      0.24  \n",
       "1                       1.66                      0.18  \n",
       "2                       1.40                      0.21  \n",
       "3                       1.38                      0.27  \n",
       "4                       1.39                      0.27  \n",
       "5                       1.69                      0.36  \n",
       "6                       1.30                      0.29  \n",
       "7                       1.50                      0.26  \n",
       "8                       1.35                      0.23  \n",
       "9                       1.51                      0.23  "
      ],
      "text/html": "<div>\n<style scoped>\n    .dataframe tbody tr th:only-of-type {\n        vertical-align: middle;\n    }\n\n    .dataframe tbody tr th {\n        vertical-align: top;\n    }\n\n    .dataframe thead th {\n        text-align: right;\n    }\n</style>\n<table border=\"1\" class=\"dataframe\">\n  <thead>\n    <tr style=\"text-align: right;\">\n      <th></th>\n      <th>sepal length (cm)</th>\n      <th>sepal width (cm)</th>\n      <th>petal length (cm)</th>\n      <th>petal width (cm)</th>\n      <th>Class</th>\n      <th>sepal length (regression)</th>\n      <th>sepal width (regression)</th>\n      <th>petal length (regression)</th>\n      <th>petal width (regression)</th>\n    </tr>\n  </thead>\n  <tbody>\n    <tr>\n      <th>0</th>\n      <td>5.1</td>\n      <td>3.5</td>\n      <td>1.4</td>\n      <td>0.2</td>\n      <td>0</td>\n      <td>5.00</td>\n      <td>3.44</td>\n      <td>1.52</td>\n      <td>0.24</td>\n    </tr>\n    <tr>\n      <th>1</th>\n      <td>4.9</td>\n      <td>3.0</td>\n      <td>1.4</td>\n      <td>0.2</td>\n      <td>0</td>\n      <td>4.67</td>\n      <td>3.32</td>\n      <td>1.66</td>\n      <td>0.18</td>\n    </tr>\n    <tr>\n      <th>2</th>\n      <td>4.7</td>\n      <td>3.2</td>\n      <td>1.3</td>\n      <td>0.2</td>\n      <td>0</td>\n      <td>4.72</td>\n      <td>3.25</td>\n      <td>1.40</td>\n      <td>0.21</td>\n    </tr>\n    <tr>\n      <th>3</th>\n      <td>4.6</td>\n      <td>3.1</td>\n      <td>1.5</td>\n      <td>0.2</td>\n      <td>0</td>\n      <td>4.81</td>\n      <td>3.07</td>\n      <td>1.38</td>\n      <td>0.27</td>\n    </tr>\n    <tr>\n      <th>4</th>\n      <td>5.0</td>\n      <td>3.6</td>\n      <td>1.4</td>\n      <td>0.2</td>\n      <td>0</td>\n      <td>5.06</td>\n      <td>3.38</td>\n      <td>1.39</td>\n      <td>0.27</td>\n    </tr>\n    <tr>\n      <th>5</th>\n      <td>5.4</td>\n      <td>3.9</td>\n      <td>1.7</td>\n      <td>0.4</td>\n      <td>0</td>\n      <td>5.41</td>\n      <td>3.55</td>\n      <td>1.69</td>\n      <td>0.36</td>\n    </tr>\n    <tr>\n      <th>6</th>\n      <td>4.6</td>\n      <td>3.4</td>\n      <td>1.4</td>\n      <td>0.3</td>\n      <td>0</td>\n      <td>4.89</td>\n      <td>3.18</td>\n      <td>1.30</td>\n      <td>0.29</td>\n    </tr>\n    <tr>\n      <th>7</th>\n      <td>5.0</td>\n      <td>3.4</td>\n      <td>1.5</td>\n      <td>0.2</td>\n      <td>0</td>\n      <td>5.01</td>\n      <td>3.32</td>\n      <td>1.50</td>\n      <td>0.26</td>\n    </tr>\n    <tr>\n      <th>8</th>\n      <td>4.4</td>\n      <td>2.9</td>\n      <td>1.4</td>\n      <td>0.2</td>\n      <td>0</td>\n      <td>4.61</td>\n      <td>3.00</td>\n      <td>1.35</td>\n      <td>0.23</td>\n    </tr>\n    <tr>\n      <th>9</th>\n      <td>4.9</td>\n      <td>3.1</td>\n      <td>1.5</td>\n      <td>0.1</td>\n      <td>0</td>\n      <td>4.86</td>\n      <td>3.20</td>\n      <td>1.51</td>\n      <td>0.23</td>\n    </tr>\n  </tbody>\n</table>\n</div>"
     },
     "metadata": {},
     "execution_count": 24
    }
   ],
   "source": [
    "df['sepal length (regression)'] = sepal_length\n",
    "df['sepal width (regression)'] = sepal_width\n",
    "df['petal length (regression)'] = petal_length\n",
    "df['petal width (regression)'] = petal_width\n",
    "df.head(10)"
   ]
  }
 ]
}